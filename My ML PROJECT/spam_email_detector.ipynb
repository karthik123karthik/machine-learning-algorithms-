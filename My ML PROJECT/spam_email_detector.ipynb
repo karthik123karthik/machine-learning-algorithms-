{
 "cells": [
  {
   "cell_type": "code",
   "execution_count": 1,
   "id": "659eb2f0",
   "metadata": {},
   "outputs": [],
   "source": [
    "import pandas as pd;\n",
    "import numpy as np;\n",
    "from sklearn.model_selection import train_test_split; \n",
    "from sklearn.feature_extraction.text import TfidfVectorizer;\n",
    "from sklearn.linear_model import LogisticRegression;\n",
    "from sklearn.metrics import accuracy_score;"
   ]
  },
  {
   "cell_type": "code",
   "execution_count": 2,
   "id": "290d2415",
   "metadata": {},
   "outputs": [],
   "source": [
    "mail_data_frame = pd.read_csv(\"mail_data.csv\");"
   ]
  },
  {
   "cell_type": "code",
   "execution_count": 3,
   "id": "33862ffa",
   "metadata": {},
   "outputs": [],
   "source": [
    "#removing null values\n",
    "mail_data_frame = mail_data_frame.where(pd.notnull(mail_data_frame),'');"
   ]
  },
  {
   "cell_type": "code",
   "execution_count": 7,
   "id": "295258cf",
   "metadata": {},
   "outputs": [
    {
     "name": "stdout",
     "output_type": "stream",
     "text": [
      "     Category                                            Message\n",
      "0         ham  Go until jurong point, crazy.. Available only ...\n",
      "1         ham                      Ok lar... Joking wif u oni...\n",
      "2        spam  Free entry in 2 a wkly comp to win FA Cup fina...\n",
      "3         ham  U dun say so early hor... U c already then say...\n",
      "4         ham  Nah I don't think he goes to usf, he lives aro...\n",
      "...       ...                                                ...\n",
      "5567     spam  This is the 2nd time we have tried 2 contact u...\n",
      "5568      ham               Will ü b going to esplanade fr home?\n",
      "5569      ham  Pity, * was in mood for that. So...any other s...\n",
      "5570      ham  The guy did some bitching but I acted like i'd...\n",
      "5571      ham                         Rofl. Its true to its name\n",
      "\n",
      "[5572 rows x 2 columns]\n"
     ]
    }
   ],
   "source": [
    "print(mail_data_frame);"
   ]
  },
  {
   "cell_type": "code",
   "execution_count": 8,
   "id": "5bf170f0",
   "metadata": {},
   "outputs": [],
   "source": [
    "mail_data_frame.loc[mail_data_frame['Category']=='spam', 'Category'] = 1;\n",
    "mail_data_frame.loc[mail_data_frame['Category']=='ham', 'Category'] = 0;"
   ]
  },
  {
   "cell_type": "code",
   "execution_count": 10,
   "id": "130fd8b4",
   "metadata": {},
   "outputs": [
    {
     "name": "stdout",
     "output_type": "stream",
     "text": [
      "  Category                                            Message\n",
      "0        0  Go until jurong point, crazy.. Available only ...\n",
      "1        0                      Ok lar... Joking wif u oni...\n",
      "2        1  Free entry in 2 a wkly comp to win FA Cup fina...\n",
      "3        0  U dun say so early hor... U c already then say...\n",
      "4        0  Nah I don't think he goes to usf, he lives aro...\n"
     ]
    }
   ],
   "source": [
    "#print(mail_data_frame.head());"
   ]
  },
  {
   "cell_type": "code",
   "execution_count": 11,
   "id": "d9050da1",
   "metadata": {},
   "outputs": [],
   "source": [
    "X = mail_data_frame['Message'];\n",
    "y = mail_data_frame['Category'];"
   ]
  },
  {
   "cell_type": "code",
   "execution_count": 12,
   "id": "702e484f",
   "metadata": {},
   "outputs": [
    {
     "name": "stdout",
     "output_type": "stream",
     "text": [
      " input size is (5572,) output size is (5572,)\n"
     ]
    }
   ],
   "source": [
    "#print(f\" input size is {X.shape} output size is {y.shape}\");"
   ]
  },
  {
   "cell_type": "code",
   "execution_count": 13,
   "id": "3c643c4e",
   "metadata": {},
   "outputs": [
    {
     "name": "stdout",
     "output_type": "stream",
     "text": [
      "0    Go until jurong point, crazy.. Available only ...\n",
      "1                        Ok lar... Joking wif u oni...\n",
      "2    Free entry in 2 a wkly comp to win FA Cup fina...\n",
      "3    U dun say so early hor... U c already then say...\n",
      "4    Nah I don't think he goes to usf, he lives aro...\n",
      "Name: Message, dtype: object\n"
     ]
    }
   ],
   "source": [
    "#print(X[0:5]);"
   ]
  },
  {
   "cell_type": "code",
   "execution_count": 14,
   "id": "03052519",
   "metadata": {},
   "outputs": [],
   "source": [
    "X_train, X_test, y_train, y_split = train_test_split(X, y, test_size=0.2, random_state = 3);"
   ]
  },
  {
   "cell_type": "code",
   "execution_count": 15,
   "id": "5984b17f",
   "metadata": {},
   "outputs": [
    {
     "name": "stdout",
     "output_type": "stream",
     "text": [
      "(4457,)\n"
     ]
    }
   ],
   "source": [
    "#print(X_train.shape)"
   ]
  },
  {
   "cell_type": "code",
   "execution_count": null,
   "id": "5df43dbd",
   "metadata": {},
   "outputs": [],
   "source": [
    "### perform feauture extraction from X data sample\n",
    "feature_extraction = TfidfVectorizer();"
   ]
  }
 ],
 "metadata": {
  "kernelspec": {
   "display_name": "Python 3 (ipykernel)",
   "language": "python",
   "name": "python3"
  },
  "language_info": {
   "codemirror_mode": {
    "name": "ipython",
    "version": 3
   },
   "file_extension": ".py",
   "mimetype": "text/x-python",
   "name": "python",
   "nbconvert_exporter": "python",
   "pygments_lexer": "ipython3",
   "version": "3.11.1"
  }
 },
 "nbformat": 4,
 "nbformat_minor": 5
}
