{
 "cells": [
  {
   "cell_type": "code",
   "execution_count": 1,
   "id": "03ee3fe9",
   "metadata": {},
   "outputs": [],
   "source": [
    "import numpy as np\n",
    "import tensorflow as tf\n",
    "from tensorflow import keras\n",
    "from recsys_utils import *"
   ]
  },
  {
   "cell_type": "code",
   "execution_count": 2,
   "id": "6967e5e6",
   "metadata": {},
   "outputs": [
    {
     "name": "stdout",
     "output_type": "stream",
     "text": [
      "Y (4778, 443) R (4778, 443)\n",
      "X (4778, 10)\n",
      "W (443, 10)\n",
      "b (1, 443)\n",
      "num_features 10\n",
      "num_movies 4778\n",
      "num_users 443\n"
     ]
    }
   ],
   "source": [
    "X, W, b, num_movies, num_features, num_users = load_precalc_params_small()\n",
    "Y,R = load_ratings_small()\n",
    "\n",
    "print(\"Y\", Y.shape, \"R\", R.shape)\n",
    "print(\"X\", X.shape)\n",
    "print(\"W\", W.shape)\n",
    "print(\"b\", b.shape)\n",
    "print(\"num_features\", num_features)\n",
    "print(\"num_movies\",   num_movies)\n",
    "print(\"num_users\",    num_users)"
   ]
  },
  {
   "cell_type": "code",
   "execution_count": 3,
   "id": "e189523f",
   "metadata": {},
   "outputs": [
    {
     "name": "stdout",
     "output_type": "stream",
     "text": [
      "mean value of the movie 1 3.4\n"
     ]
    }
   ],
   "source": [
    "tsmean = np.mean(Y[0, R[0, :].astype(bool)])\n",
    "print(f\"mean value of the movie 1 {tsmean}\")"
   ]
  },
  {
   "cell_type": "code",
   "execution_count": 14,
   "id": "b8d9b691",
   "metadata": {},
   "outputs": [],
   "source": [
    "## implementing cost function\n",
    "\n",
    "def cofi_cost_func(X, W, b, Y, R, lamda):\n",
    "    nm, nu = Y.shape\n",
    "    J = 0\n",
    "    \n",
    "    for j in range(nu):\n",
    "        w = W[j,:]\n",
    "        b_j = b[0,j] # calculate w and b for jth user\n",
    "        for i in range(nm):\n",
    "            x = X[i,:] \n",
    "            y = Y[i,j]\n",
    "            r = R[i,j]\n",
    "            J += np.square(r*(np.dot(w,x) + b_j - y))\n",
    "    J+= lamda/2 * (np.sum(np.square(W)) + np.sum(np.square(X)))\n",
    "    J = J/2\n",
    "\n",
    "    return J"
   ]
  },
  {
   "cell_type": "code",
   "execution_count": 15,
   "id": "3d9aa3c9",
   "metadata": {},
   "outputs": [
    {
     "name": "stdout",
     "output_type": "stream",
     "text": [
      "[[0.23609531 0.35653394 0.12819964 0.3155024 ]]\n",
      "Cost: 13.67\n"
     ]
    }
   ],
   "source": [
    "num_users_r = 4\n",
    "num_movies_r = 5 \n",
    "num_features_r = 3\n",
    "\n",
    "X_r = X[:num_movies_r, :num_features_r]\n",
    "W_r = W[:num_users_r,  :num_features_r]\n",
    "b_r = b[0, :num_users_r].reshape(1, -1)\n",
    "Y_r = Y[:num_movies_r, :num_users_r]\n",
    "R_r = R[:num_movies_r, :num_users_r]\n",
    "\n",
    "print(b_r)\n",
    "\n",
    "# Evaluate cost function\n",
    "J = cofi_cost_func(X_r, W_r, b_r, Y_r, R_r, 0);\n",
    "print(f\"Cost: {J:0.2f}\")"
   ]
  },
  {
   "cell_type": "code",
   "execution_count": null,
   "id": "dd0d99f7",
   "metadata": {},
   "outputs": [],
   "source": []
  }
 ],
 "metadata": {
  "kernelspec": {
   "display_name": "Python 3 (ipykernel)",
   "language": "python",
   "name": "python3"
  },
  "language_info": {
   "codemirror_mode": {
    "name": "ipython",
    "version": 3
   },
   "file_extension": ".py",
   "mimetype": "text/x-python",
   "name": "python",
   "nbconvert_exporter": "python",
   "pygments_lexer": "ipython3",
   "version": "3.11.1"
  }
 },
 "nbformat": 4,
 "nbformat_minor": 5
}
