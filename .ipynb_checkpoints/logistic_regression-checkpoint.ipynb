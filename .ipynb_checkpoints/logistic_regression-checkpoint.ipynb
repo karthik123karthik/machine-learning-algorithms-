{
 "cells": [
  {
   "cell_type": "code",
   "execution_count": 1,
   "id": "e99433ed",
   "metadata": {},
   "outputs": [],
   "source": [
    "import numpy as np;\n",
    "import matplotlib.pyplot as plt;"
   ]
  },
  {
   "cell_type": "code",
   "execution_count": 4,
   "id": "fedb31bb",
   "metadata": {},
   "outputs": [
    {
     "name": "stdout",
     "output_type": "stream",
     "text": [
      "[1 2 3] [ 2.71828183  7.3890561  20.08553692]\n",
      "2.718281828459045\n"
     ]
    }
   ],
   "source": [
    "input_array = np.array([1,2,3]);\n",
    "exponent_array = np.exp(input_array);\n",
    "\n",
    "print(input_array, exponent_array)\n",
    "\n",
    "input_value = 1\n",
    "exponent_value = np.exp(input_value) # e**1\n",
    "print(exponent_value);"
   ]
  },
  {
   "cell_type": "code",
   "execution_count": 5,
   "id": "18eb44e5",
   "metadata": {},
   "outputs": [],
   "source": [
    "def sigmoid(z):\n",
    "    ''' computes the g where g(z) = 1 / 1 + e**-z'''\n",
    "    g = 1 / (1 + np.exp(-z));\n",
    "    return g;"
   ]
  },
  {
   "cell_type": "code",
   "execution_count": 10,
   "id": "a18f9927",
   "metadata": {},
   "outputs": [
    {
     "name": "stdout",
     "output_type": "stream",
     "text": [
      "input(z), sigmoid(y)\n",
      "[[-1.000e+01  4.540e-05]\n",
      " [-9.000e+00  1.234e-04]\n",
      " [-8.000e+00  3.354e-04]\n",
      " [-7.000e+00  9.111e-04]\n",
      " [-6.000e+00  2.473e-03]\n",
      " [-5.000e+00  6.693e-03]\n",
      " [-4.000e+00  1.799e-02]\n",
      " [-3.000e+00  4.743e-02]\n",
      " [-2.000e+00  1.192e-01]\n",
      " [-1.000e+00  2.689e-01]\n",
      " [ 0.000e+00  5.000e-01]\n",
      " [ 1.000e+00  7.311e-01]\n",
      " [ 2.000e+00  8.808e-01]\n",
      " [ 3.000e+00  9.526e-01]\n",
      " [ 4.000e+00  9.820e-01]\n",
      " [ 5.000e+00  9.933e-01]\n",
      " [ 6.000e+00  9.975e-01]\n",
      " [ 7.000e+00  9.991e-01]\n",
      " [ 8.000e+00  9.997e-01]\n",
      " [ 9.000e+00  9.999e-01]\n",
      " [ 1.000e+01  1.000e+00]]\n"
     ]
    }
   ],
   "source": [
    "z_temp = np.arange(-10, 11);\n",
    "y_temp = sigmoid(z_temp);\n",
    "\n",
    "np.set_printoptions(precision =3);\n",
    "print(\"input(z), sigmoid(y)\");\n",
    "print(np.c_[z_temp, y_temp]);"
   ]
  },
  {
   "cell_type": "code",
   "execution_count": null,
   "id": "a381077b",
   "metadata": {},
   "outputs": [],
   "source": []
  }
 ],
 "metadata": {
  "kernelspec": {
   "display_name": "Python 3 (ipykernel)",
   "language": "python",
   "name": "python3"
  },
  "language_info": {
   "codemirror_mode": {
    "name": "ipython",
    "version": 3
   },
   "file_extension": ".py",
   "mimetype": "text/x-python",
   "name": "python",
   "nbconvert_exporter": "python",
   "pygments_lexer": "ipython3",
   "version": "3.11.1"
  }
 },
 "nbformat": 4,
 "nbformat_minor": 5
}
